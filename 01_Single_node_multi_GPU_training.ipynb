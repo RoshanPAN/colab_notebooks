{
  "cells": [
    {
      "cell_type": "markdown",
      "metadata": {
        "id": "view-in-github",
        "colab_type": "text"
      },
      "source": [
        "<a href=\"https://colab.research.google.com/github/RoshanPAN/colab_notebooks/blob/main/01_Single_node_multi_GPU_training.ipynb\" target=\"_parent\"><img src=\"https://colab.research.google.com/assets/colab-badge.svg\" alt=\"Open In Colab\"/></a>"
      ]
    },
    {
      "cell_type": "markdown",
      "metadata": {
        "id": "vhY6tMgxeHCL"
      },
      "source": [
        "# Single-node Multi-GPU training\n",
        "- Dataset: MNIST\n",
        "- Net: a simple CNN\n",
        "- Task: classification / object recognition (numbers from image)"
      ]
    },
    {
      "cell_type": "code",
      "execution_count": 1,
      "metadata": {
        "id": "ycAs7dsjTaNA"
      },
      "outputs": [],
      "source": [
        "import torch\n",
        "import torch.nn as nn\n",
        "import torch.distributed as dist\n",
        "import torch.nn.functional as F\n",
        "\n",
        "from torch.autograd import Variable\n",
        "\n",
        "from torchvision import datasets, transforms"
      ]
    },
    {
      "cell_type": "code",
      "execution_count": 2,
      "metadata": {
        "id": "prFdi-jvTzFP"
      },
      "outputs": [],
      "source": [
        "class Net(nn.Module):\n",
        "    def __init__(self):\n",
        "        super(Net, self).__init__()\n",
        "        self.conv1 = nn.Conv2d(1, 10, kernel_size=5)\n",
        "        self.conv2 = nn.Conv2d(10, 20, kernel_size=5)\n",
        "        self.conv2_drop = nn.Dropout2d()\n",
        "        self.fc1 = nn.Linear(320, 50)\n",
        "        self.fc2 = nn.Linear(50, 10)\n",
        "    \n",
        "    def forward(self, x): \n",
        "        # print(x.size())  # torch.Size([128, 1, 28, 28])\n",
        "        x = self.conv1(x)\n",
        "        # print(x.size()) # torch.Size([128, 10, 24, 24])\n",
        "        x = F.relu(F.max_pool2d(x, 2))\n",
        "        # print(x.size()) # torch.Size([128, 10, 12, 12])\n",
        "        x = self.conv2(x) \n",
        "        # print(x.size()) # torch.Size([128, 20, 8, 8])\n",
        "        x = self.conv2_drop(x)\n",
        "        x = F.max_pool2d(x, 2)\n",
        "        # print(x.size()) # torch.Size([128, 20, 4, 4])\n",
        "        x = F.relu(x)\n",
        "        # print(x.size())\n",
        "        x = x.view(-1, 320) # torch.Size([128, 320])\n",
        "        # print(x.size())\n",
        "        x = F.relu(self.fc1(x))\n",
        "        # print(x.size()) # torch.Size([128, 50])\n",
        "        x = F.dropout(x, training=self.training)\n",
        "        # print(x.size())\n",
        "        x = self.fc2(x)\n",
        "        # print(x.size()) # torch.Size([128, 10])\n",
        "        x = F.log_softmax(x, dim=1)\n",
        "        # print(x.size()) # torch.Size([128, 10])\n",
        "        return x\n"
      ]
    },
    {
      "cell_type": "code",
      "execution_count": 7,
      "metadata": {
        "colab": {
          "base_uri": "https://localhost:8080/"
        },
        "id": "4kv0qKcDjb9N",
        "outputId": "d1d75857-f1a7-466c-95a5-6c7d4d541eba"
      },
      "outputs": [
        {
          "output_type": "stream",
          "name": "stdout",
          "text": [
            "Dataset size: torch.Size([60000, 28, 28])\n",
            "num_batches: 469\n"
          ]
        },
        {
          "output_type": "stream",
          "name": "stderr",
          "text": [
            "<ipython-input-2-f95783ecad4e>:31: UserWarning: Implicit dimension choice for log_softmax has been deprecated. Change the call to include dim=X as an argument.\n",
            "  x = F.log_softmax(x)\n"
          ]
        },
        {
          "output_type": "stream",
          "name": "stdout",
          "text": [
            "epoch 0 : 1.416488766670227\n",
            "epoch 1 : 0.539771556854248\n",
            "epoch 2 : 0.41418710350990295\n",
            "epoch 3 : 0.3458663821220398\n",
            "epoch 4 : 0.3084315061569214\n",
            "epoch 5 : 0.27663862705230713\n",
            "epoch 6 : 0.26085877418518066\n",
            "epoch 7 : 0.23939724266529083\n",
            "epoch 8 : 0.22665226459503174\n",
            "epoch 9 : 0.2206045389175415\n",
            "epoch 10 : 0.2109023928642273\n",
            "epoch 11 : 0.19803933799266815\n",
            "epoch 12 : 0.19459813833236694\n",
            "epoch 13 : 0.19019652903079987\n",
            "epoch 14 : 0.18700070679187775\n",
            "epoch 15 : 0.17976084351539612\n",
            "epoch 16 : 0.17496217787265778\n",
            "epoch 17 : 0.16623777151107788\n",
            "epoch 18 : 0.16562294960021973\n",
            "epoch 19 : 0.16535300016403198\n",
            "CPU times: user 3min 47s, sys: 961 ms, total: 3min 48s\n",
            "Wall time: 3min 49s\n"
          ]
        }
      ],
      "source": [
        "%%time\n",
        "\n",
        "from typing import Tuple\n",
        "\n",
        "import math\n",
        "\n",
        "\n",
        "\n",
        "EPOCH = 20\n",
        "BSZ = 128\n",
        "\n",
        "def process_dataset() -> Tuple[torch.utils.data.DataLoader, int]:\n",
        "    dataset = datasets.MNIST(\n",
        "        \"./data\",\n",
        "        train=True, # creates dataset from train-images-idx3-ubyte\n",
        "        download=True,\n",
        "        transform=transforms.Compose([\n",
        "            transforms.ToTensor(),\n",
        "            transforms.Normalize(mean=(0.1307,), std=(0.3081,))\n",
        "        ])\n",
        "    ) # 60000 x 28 x 28\n",
        "    bsz = BSZ\n",
        "    train_set = torch.utils.data.DataLoader(\n",
        "        dataset,\n",
        "        batch_size=bsz,\n",
        "        shuffle=True,\n",
        "    )\n",
        "    return train_set, bsz\n",
        "\n",
        "\n",
        "def run():\n",
        "    # 1) dataset\n",
        "    train_set, bsz = process_dataset()\n",
        "    print(f\"Dataset size: {train_set.dataset.data.size()}\")\n",
        "    # 2) nn\n",
        "    model = Net().cuda()\n",
        "    # 3) optimizer\n",
        "    optimizer = torch.optim.SGD(model.parameters(), lr=0.01, momentum=0.5)\n",
        "    \n",
        "    # 4) training loop\n",
        "    num_batches = math.ceil(len(train_set.dataset) / float(bsz))\n",
        "    print(f\"num_batches: {num_batches}\")\n",
        "    for epoch in range(EPOCH):\n",
        "        epoch_loss = 0.0\n",
        "        for data, target in train_set:\n",
        "            data, target = Variable(data), Variable(target)\n",
        "            data, target = Variable(data.cuda()), Variable(target.cuda())\n",
        "            optimizer.zero_grad()\n",
        "            output = model(data)\n",
        "            loss = F.nll_loss(output, target)\n",
        "            epoch_loss += loss\n",
        "            loss.backward()\n",
        "            # TODO: add gradients averaging\n",
        "            optimizer.step()\n",
        "        print(f\"epoch {epoch} : {epoch_loss / num_batches}\")\n",
        "\n",
        "run()    \n"
      ]
    },
    {
      "cell_type": "code",
      "execution_count": 4,
      "metadata": {
        "id": "856hPHxZUNsk"
      },
      "outputs": [],
      "source": []
    },
    {
      "cell_type": "markdown",
      "source": [
        "# Execution Result\n",
        "\n",
        "## CPU, BSZ=128\n",
        "```\n",
        "Dataset size: torch.Size([60000, 28, 28])\n",
        "num_batches: 469\n",
        "<ipython-input-45-f95783ecad4e>:31: UserWarning: Implicit dimension choice for log_softmax has been deprecated. Change the call to include dim=X as an argument.\n",
        "  x = F.log_softmax(x)\n",
        "epoch 0 : 1.3038874864578247\n",
        "epoch 1 : 0.5251671075820923\n",
        "epoch 2 : 0.3905843496322632\n",
        "epoch 3 : 0.3264372646808624\n",
        "epoch 4 : 0.28955695033073425\n",
        "epoch 5 : 0.2631623148918152\n",
        "epoch 6 : 0.24315407872200012\n",
        "epoch 7 : 0.23252680897712708\n",
        "epoch 8 : 0.21824924647808075\n",
        "epoch 9 : 0.20591209828853607\n",
        "CPU times: user 5min 32s, sys: 841 ms, total: 5min 32s\n",
        "Wall time: 5min 37s\n",
        "```\n",
        "\n",
        "\n",
        "# GPU, BSZ=128\n",
        "```\n",
        "# 10 Epochs\n",
        "Dataset size: torch.Size([60000, 28, 28])\n",
        "num_batches: 469\n",
        "<ipython-input-2-f95783ecad4e>:31: UserWarning: Implicit dimension choice for log_softmax has been deprecated. Change the call to include dim=X as an argument.\n",
        "  x = F.log_softmax(x)\n",
        "epoch 0 : 1.235790491104126\n",
        "epoch 1 : 0.4971596300601959\n",
        "epoch 2 : 0.38141945004463196\n",
        "epoch 3 : 0.32811951637268066\n",
        "epoch 4 : 0.2910745143890381\n",
        "epoch 5 : 0.26903238892555237\n",
        "epoch 6 : 0.25371941924095154\n",
        "epoch 7 : 0.2374497801065445\n",
        "epoch 8 : 0.22684521973133087\n",
        "epoch 9 : 0.2162005603313446\n",
        "CPU times: user 1min 57s, sys: 2.61 s, total: 2min\n",
        "Wall time: 2min 16s\n",
        "\n",
        "# 20 Epochs\n",
        "Dataset size: torch.Size([60000, 28, 28])\n",
        "num_batches: 469\n",
        "<ipython-input-2-f95783ecad4e>:31: UserWarning: Implicit dimension choice for log_softmax has been deprecated. Change the call to include dim=X as an argument.\n",
        "  x = F.log_softmax(x)\n",
        "epoch 0 : 1.416488766670227\n",
        "epoch 1 : 0.539771556854248\n",
        "epoch 2 : 0.41418710350990295\n",
        "epoch 3 : 0.3458663821220398\n",
        "epoch 4 : 0.3084315061569214\n",
        "epoch 5 : 0.27663862705230713\n",
        "epoch 6 : 0.26085877418518066\n",
        "epoch 7 : 0.23939724266529083\n",
        "epoch 8 : 0.22665226459503174\n",
        "epoch 9 : 0.2206045389175415\n",
        "epoch 10 : 0.2109023928642273\n",
        "epoch 11 : 0.19803933799266815\n",
        "epoch 12 : 0.19459813833236694\n",
        "epoch 13 : 0.19019652903079987\n",
        "epoch 14 : 0.18700070679187775\n",
        "epoch 15 : 0.17976084351539612\n",
        "epoch 16 : 0.17496217787265778\n",
        "epoch 17 : 0.16623777151107788\n",
        "epoch 18 : 0.16562294960021973\n",
        "epoch 19 : 0.16535300016403198\n",
        "CPU times: user 3min 47s, sys: 961 ms, total: 3min 48s\n",
        "Wall time: 3min 49s\n",
        "```\n",
        "\n",
        "# GPU, BSZ = 1024\n",
        "```\n",
        "Dataset size: torch.Size([60000, 28, 28])\n",
        "num_batches: 59\n",
        "<ipython-input-2-f95783ecad4e>:31: UserWarning: Implicit dimension choice for log_softmax has been deprecated. Change the call to include dim=X as an argument.\n",
        "  x = F.log_softmax(x)\n",
        "epoch 0 : 2.2444987297058105\n",
        "epoch 1 : 1.8585891723632812\n",
        "epoch 2 : 1.267760992050171\n",
        "epoch 3 : 0.9567292928695679\n",
        "epoch 4 : 0.7941415309906006\n",
        "epoch 5 : 0.7030096650123596\n",
        "epoch 6 : 0.6458746790885925\n",
        "epoch 7 : 0.5996829271316528\n",
        "epoch 8 : 0.5671847462654114\n",
        "epoch 9 : 0.5353052020072937\n",
        "CPU times: user 1min 45s, sys: 348 ms, total: 1min 45s\n",
        "Wall time: 1min 46s\n",
        "```\n",
        "\n",
        "## GPU, BSZ = 4096\n",
        "```\n",
        "Dataset size: torch.Size([60000, 28, 28])\n",
        "num_batches: 15\n",
        "<ipython-input-2-f95783ecad4e>:31: UserWarning: Implicit dimension choice for log_softmax has been deprecated. Change the call to include dim=X as an argument.\n",
        "  x = F.log_softmax(x)\n",
        "epoch 0 : 2.3003547191619873\n",
        "epoch 1 : 2.278226375579834\n",
        "epoch 2 : 2.256819486618042\n",
        "epoch 3 : 2.2294697761535645\n",
        "epoch 4 : 2.188817024230957\n",
        "epoch 5 : 2.125926971435547\n",
        "epoch 6 : 2.0263874530792236\n",
        "epoch 7 : 1.8801077604293823\n",
        "epoch 8 : 1.7081881761550903\n",
        "epoch 9 : 1.5435491800308228\n",
        "CPU times: user 1min 46s, sys: 305 ms, total: 1min 47s\n",
        "Wall time: 1min 47s\n",
        "```"
      ],
      "metadata": {
        "id": "2Z_Dtj7U4U-f"
      }
    },
    {
      "cell_type": "markdown",
      "metadata": {
        "id": "iRI4VHs0fZvo"
      },
      "source": [
        "# Some References\n",
        "\n",
        "## MNIST dataset\n",
        "Download the MNIST dataset from the following link: http://yann.lecun.com/exdb/mnist/\n",
        "```\n",
        " MNIST dataset contents\n",
        "    ├──  train-images-idx3-ubyte  # MNIST training images   \n",
        "    ├──  train-labels-idx1-ubyte  # MNIST training tags\n",
        "    ├──  t10k-images-idx3-ubyte   # MNIST test images\n",
        "    └──  t10k-labels-idx1-ubyte   # MNIST test tags\n",
        "\n",
        "```\n",
        "\n",
        "## torch.optim / Optimizer\n",
        "- [PyTorch Docs - torch.optim](https://pytorch.org/docs/stable/optim.html)\n",
        "\n",
        "\n",
        "## 1D/2D/3D Conv Explained\n",
        "https://stackoverflow.com/questions/42883547/intuitive-understanding-of-1d-2d-and-3d-convolutions-in-convolutional-neural-n/44628011#44628011\n",
        "\n",
        "<!--- \n",
        "![CNN.png](https://i.stack.imgur.com/I25ty.png) \n",
        "![CNN.png](https://i.stack.imgur.com/xIdEq.png) \n",
        "![CNN.png](https://i.stack.imgur.com/HCWgp.png) \n",
        "--->"
      ]
    },
    {
      "cell_type": "code",
      "execution_count": null,
      "metadata": {
        "id": "eICRWGf7fdxN"
      },
      "outputs": [],
      "source": []
    }
  ],
  "metadata": {
    "colab": {
      "provenance": [],
      "authorship_tag": "ABX9TyPQCWQgC/VX9b3vzZDXhji8",
      "include_colab_link": true
    },
    "kernelspec": {
      "display_name": "Python 3",
      "name": "python3"
    },
    "language_info": {
      "name": "python"
    },
    "accelerator": "GPU",
    "gpuClass": "standard"
  },
  "nbformat": 4,
  "nbformat_minor": 0
}